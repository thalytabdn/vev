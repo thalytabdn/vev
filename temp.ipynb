{
 "cells": [
  {
   "cell_type": "code",
   "execution_count": null,
   "metadata": {},
   "outputs": [],
   "source": [
    "# IMPORTAR MÓDULOS\n",
    "from selenium import webdriver\n",
    "from selenium.webdriver.common.by import By"
   ]
  },
  {
   "cell_type": "code",
   "execution_count": null,
   "metadata": {},
   "outputs": [],
   "source": [
    "# ABRIR NAVEGADOR\n",
    "nav = webdriver.Chrome()"
   ]
  },
  {
   "cell_type": "code",
   "execution_count": null,
   "metadata": {},
   "outputs": [],
   "source": [
    "# ACESSAR O GOOGLE\n",
    "nav.get('https://www.google.com.br/')"
   ]
  },
  {
   "cell_type": "code",
   "execution_count": null,
   "metadata": {},
   "outputs": [],
   "source": [
    "# DIGITAR NA BUSCA\n",
    "nav.find_element(By.NAME, 'q').send_keys('temperatura agora')"
   ]
  },
  {
   "cell_type": "code",
   "execution_count": null,
   "metadata": {},
   "outputs": [],
   "source": [
    "# CLICAR PARA BUSCAR\n",
    "nav.find_element(By.NAME, 'btnK').click()"
   ]
  },
  {
   "cell_type": "code",
   "execution_count": null,
   "metadata": {},
   "outputs": [],
   "source": [
    "# ENCONTRAR TEMPERATURA\n",
    "nav.find_element(By.ID, 'wob_tm').text"
   ]
  },
  {
   "cell_type": "code",
   "execution_count": null,
   "metadata": {},
   "outputs": [],
   "source": [
    "# FECHAR NAVEGADOR\n",
    "nav.quit()"
   ]
  }
 ],
 "metadata": {
  "kernelspec": {
   "display_name": "Python 3.9.13 ('base')",
   "language": "python",
   "name": "python3"
  },
  "language_info": {
   "name": "python",
   "version": "3.9.13"
  },
  "orig_nbformat": 4,
  "vscode": {
   "interpreter": {
    "hash": "be30b260a443a4964b3d89f1323a7ebf7cc4b9f4c7ed6d847a83b685dae84a9d"
   }
  }
 },
 "nbformat": 4,
 "nbformat_minor": 2
}
